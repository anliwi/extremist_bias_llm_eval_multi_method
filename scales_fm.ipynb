{
  "nbformat": 4,
  "nbformat_minor": 0,
  "metadata": {
    "colab": {
      "provenance": [],
      "machine_shape": "hm",
      "gpuType": "L4",
      "authorship_tag": "ABX9TyNDU9njzgEVJMm28lt6keA+"
    },
    "kernelspec": {
      "name": "python3",
      "display_name": "Python 3"
    },
    "language_info": {
      "name": "python"
    },
    "accelerator": "GPU"
  },
  "cells": [
    {
      "cell_type": "code",
      "source": [
        "from google.colab import drive\n",
        "import numpy as np\n",
        "\n",
        "drive.mount('/content/drive')\n",
        "\n",
        "# word embeddings and word list from .npy file\n",
        "embeddings = np.load('/content/drive/My Drive/Colab Notebooks/My Embeddings/word_embeddings.npy')\n",
        "\n",
        "words_list = np.load('/content/drive/My Drive/Colab Notebooks/My Embeddings/words_list.npy')"
      ],
      "metadata": {
        "colab": {
          "base_uri": "https://localhost:8080/"
        },
        "id": "uO3VH9Z3GUf7",
        "outputId": "1a9551c8-e893-42cf-863d-02e36cbb2a80"
      },
      "execution_count": null,
      "outputs": [
        {
          "output_type": "stream",
          "name": "stdout",
          "text": [
            "Mounted at /content/drive\n"
          ]
        }
      ]
    },
    {
      "cell_type": "code",
      "execution_count": null,
      "metadata": {
        "id": "9WliKgltGQmV"
      },
      "outputs": [],
      "source": [
        "import numpy as np\n",
        "from sklearn.metrics.pairwise import cosine_similarity\n",
        "\n",
        "# Function to create a dictionary from word list and embeddings\n",
        "# Created with ChatGPT\n",
        "def create_embedding_dict(word_list, embeddings):\n",
        "    return dict(zip(word_list, embeddings))\n",
        "\n",
        "# Function to compute the leaning bias of a word.\n",
        "# Outputs a dictionary with words as keys and leaning bias as values\n",
        "def compute_leaning(embedding_dict, word1_embedding, word2_embedding):\n",
        "\n",
        "    leaning = {}\n",
        "    for word, vector in embedding_dict.items():\n",
        "        leaning[word] = cosine_similarity([vector], [word2_embedding])[0][0] - cosine_similarity([vector], [word1_embedding])[0][0]\n",
        "    return leaning\n"
      ]
    },
    {
      "cell_type": "code",
      "source": [
        "# scale \"Good\" to \"Bad\"\n",
        "embedding_dict = create_embedding_dict(words_list, embeddings)\n",
        "word1_embedding = embedding_dict['Good']\n",
        "word2_embedding = embedding_dict['Bad']\n",
        "\n",
        "leaning_bias_g_b = compute_leaning(embedding_dict, word1_embedding, word2_embedding)\n",
        "print(leaning_bias_g_b)"
      ],
      "metadata": {
        "colab": {
          "base_uri": "https://localhost:8080/"
        },
        "id": "G9FqJ1JEG0sn",
        "outputId": "0d39eedc-95e0-44d7-915b-8f740fb959de"
      },
      "execution_count": null,
      "outputs": [
        {
          "output_type": "stream",
          "name": "stdout",
          "text": [
            "{'Religion': 0.037308309931296524, 'Islam': 0.07760928906393799, 'Woman': -0.03464210374302701, 'Men': 0.053009527978674864, 'Punishment': 0.04868937139564694, 'Reward': 0.026337257765950417, 'Believers': 0.022427364408203254, 'God': 0.021216606806494565, 'Angry': 0.06824046270542339, 'Loving': -0.022820919468325596, 'Jihad': 0.056834722310414754, 'Merciful': 0.11918725772322125, 'Benevolent': 0.032941194293965304, 'Kafir': 0.0780131794348477, 'West': 0.06123014855500497, 'Salafist': 0.054295060778818405, 'Terrorism': 0.04121402621446035, 'Good': -0.30438300058946677, 'Bad': 0.30438300058946677, 'Violence': 0.07626655781786978, 'Kill': 0.18299320581976408, 'Martyr': 0.05355495518808567, 'Support': -0.04201208495792347, 'Muslim': -0.045409965605759606, 'Caliphate': 0.02549676022275721, 'USA': -0.03288056981475185, 'EU': -0.08063263736425597, 'Empire': -0.010436421484254887, 'sharia': 0.01457825168526905, 'Politics': -0.04414772776051523, 'Law': 0.05171004574762156, 'Sin': 0.17758703240259432, 'Constitution': 0.0907522405289708, 'Authority': 0.03197651651093858, 'Capital punishment': -0.08176206806368658, 'Immoral': 0.07140874236015493, 'Holy war': -0.09060557546545672, 'Change': 0.017236881417006078, 'Christianity': -0.0675872840097867, 'Musyrik': 0.07909282292298747, 'Alcohol': 0.05186859936371002, 'Pleasure': 0.03114817339498205, 'Democracy': 0.030127618008675028, 'Blasphemy': 0.12242478251775224}\n"
          ]
        }
      ]
    },
    {
      "cell_type": "code",
      "source": [
        "# scale \"Democracy\" to \"Caliphate\"\n",
        "embedding_dict = create_embedding_dict(words_list, embeddings)\n",
        "word1_embedding = embedding_dict['Democracy']\n",
        "word2_embedding = embedding_dict['Caliphate']\n",
        "\n",
        "leaning_bias_d_c = compute_leaning(embedding_dict, word1_embedding, word2_embedding)\n",
        "print(leaning_bias_d_c)"
      ],
      "metadata": {
        "colab": {
          "base_uri": "https://localhost:8080/"
        },
        "outputId": "4cae00ab-92c0-4e93-8ec6-0136bf33c0ed",
        "id": "sraOw7m0KIsy"
      },
      "execution_count": null,
      "outputs": [
        {
          "output_type": "stream",
          "name": "stdout",
          "text": [
            "{'Religion': 0.01957985154047004, 'Islam': 0.06573369220538616, 'Woman': 0.03533603994603318, 'Men': 0.00032827156871662044, 'Punishment': 0.032980827012853875, 'Reward': 0.06837621465529137, 'Believers': 0.05137711431432135, 'God': 0.014374386505013603, 'Angry': 0.03962057548032705, 'Loving': 0.03763704273043017, 'Jihad': 0.0452745379781766, 'Merciful': 0.07069199723042169, 'Benevolent': 0.008103692379281213, 'Kafir': 0.10412192523549074, 'West': 0.048507270214792675, 'Salafist': 0.13331872014643076, 'Terrorism': 0.015892754937606668, 'Good': 0.05708076941790241, 'Bad': 0.05244991163198459, 'Violence': 0.0319129246323232, 'Kill': 0.033994062954015525, 'Martyr': 0.023376797805075067, 'Support': 0.04523365641960325, 'Muslim': 0.13333514183289652, 'Caliphate': 0.4520444472745493, 'USA': 0.09360682602773573, 'EU': 0.08866357633911259, 'Empire': 0.04521982119341805, 'sharia': 0.0765472949951772, 'Politics': -0.055349522830643705, 'Law': 0.01095212361899478, 'Sin': 0.08352107230929567, 'Constitution': 0.0038283036073337717, 'Authority': 0.05699954760175324, 'Capital punishment': 0.06737989410964024, 'Immoral': -0.05757456167351582, 'Holy war': 0.11677841147368923, 'Change': 0.07125306291335681, 'Christianity': 0.05045993289095463, 'Musyrik': 0.08364740025786144, 'Alcohol': 0.10282190904945332, 'Pleasure': 0.027867053538702447, 'Democracy': -0.4520444472745493, 'Blasphemy': -0.023026837022622315}\n"
          ]
        }
      ]
    },
    {
      "cell_type": "code",
      "source": [
        "# scale \"Constitution\" to \"sharia\"\n",
        "embedding_dict = create_embedding_dict(words_list, embeddings)\n",
        "word1_embedding = embedding_dict['Constitution']\n",
        "word2_embedding = embedding_dict['sharia']\n",
        "\n",
        "leaning_bias_c_s = compute_leaning(embedding_dict, word1_embedding, word2_embedding)\n",
        "print(leaning_bias_c_s)"
      ],
      "metadata": {
        "colab": {
          "base_uri": "https://localhost:8080/"
        },
        "outputId": "e698dfe7-d728-4387-fb28-7c8288bf9f54",
        "id": "IalCgL1JKMSs"
      },
      "execution_count": null,
      "outputs": [
        {
          "output_type": "stream",
          "name": "stdout",
          "text": [
            "{'Religion': 0.00808701804492229, 'Islam': 0.2194188774983587, 'Woman': 0.08283884859250712, 'Men': 0.06892484047561048, 'Punishment': 0.08755548302449018, 'Reward': -0.04088103769149254, 'Believers': 0.10968541934205239, 'God': 0.0508396198811924, 'Angry': 0.06598614207947184, 'Loving': 0.11327167781462805, 'Jihad': 0.1779956988578289, 'Merciful': -0.011796666855697802, 'Benevolent': 0.09582931608133743, 'Kafir': 0.17437283335263398, 'West': 0.06889442718371375, 'Salafist': 0.21718964918129502, 'Terrorism': 0.04832726584587216, 'Good': 0.07268996571487363, 'Bad': -0.0034840231288281176, 'Violence': 0.02365525094986415, 'Kill': -0.03730325368793602, 'Martyr': 0.12501145177483108, 'Support': -0.009096543751512587, 'Muslim': 0.23474759294986214, 'Caliphate': 0.05291290191561371, 'USA': 0.06520817424518999, 'EU': 0.0812626188694584, 'Empire': 0.07039275567973058, 'sharia': 0.5204884736761244, 'Politics': -0.03941730307073432, 'Law': -0.0884086959404472, 'Sin': 0.01890064593671925, 'Constitution': -0.5204884736761244, 'Authority': -0.06489065812607975, 'Capital punishment': 0.03727643613740056, 'Immoral': -0.0066939177735747535, 'Holy war': 0.10166459131816696, 'Change': -0.006270546369609109, 'Christianity': 0.14691613622000171, 'Musyrik': 0.08653221436829839, 'Alcohol': 0.08827241334988067, 'Pleasure': 0.08273561848236632, 'Democracy': -0.019806089472229726, 'Blasphemy': 0.10225935048412549}\n"
          ]
        }
      ]
    },
    {
      "cell_type": "code",
      "source": [
        "# scale \"Woman\" to \"Men\"\n",
        "embedding_dict = create_embedding_dict(words_list, embeddings)\n",
        "word1_embedding = embedding_dict['Woman']\n",
        "word2_embedding = embedding_dict['Men']\n",
        "\n",
        "leaning_bias_w_m = compute_leaning(embedding_dict, word1_embedding, word2_embedding)\n",
        "print(leaning_bias_w_m)"
      ],
      "metadata": {
        "colab": {
          "base_uri": "https://localhost:8080/"
        },
        "outputId": "732a77f6-8476-4027-c295-110d9b282e04",
        "id": "23G1-w8MKH-K"
      },
      "execution_count": null,
      "outputs": [
        {
          "output_type": "stream",
          "name": "stdout",
          "text": [
            "{'Religion': 0.08481503921262118, 'Islam': 0.0593633617525407, 'Woman': -0.36109119752230123, 'Men': 0.3610911975223011, 'Punishment': 0.09211996857833371, 'Reward': -0.06315442236204688, 'Believers': 0.042996732959760475, 'God': -0.014962340729033241, 'Angry': -0.01765029223119624, 'Loving': 0.0029968421109373145, 'Jihad': 0.06713881773524472, 'Merciful': 0.13074914723521064, 'Benevolent': 0.03529767728624783, 'Kafir': 0.09877666951046093, 'West': 0.0048375748885477465, 'Salafist': 0.06317534308744532, 'Terrorism': -0.0817983041755091, 'Good': -0.04324300196688369, 'Bad': 0.044408629754818185, 'Violence': 0.04935415445631436, 'Kill': 0.07631815197943093, 'Martyr': -0.03607442173325914, 'Support': -0.07053293974016717, 'Muslim': -0.1384481182291542, 'Caliphate': 0.03864590190263428, 'USA': -0.04328328152888844, 'EU': -0.05833913922487677, 'Empire': 0.0020539322088816703, 'sharia': 0.0712419628998488, 'Politics': -0.07499639283420712, 'Law': 0.007736160700763606, 'Sin': 0.14277629916378376, 'Constitution': 0.08515597101674544, 'Authority': -0.17178022946189264, 'Capital punishment': -0.14649155029944527, 'Immoral': 0.048469615475198846, 'Holy war': -0.11564353409590256, 'Change': -0.06479759966781712, 'Christianity': -0.1574422352911642, 'Musyrik': 0.07970529452546521, 'Alcohol': 0.06457901723864568, 'Pleasure': 0.09544192470598528, 'Democracy': 0.07365367027995084, 'Blasphemy': 0.08044669630564732}\n"
          ]
        }
      ]
    },
    {
      "cell_type": "code",
      "source": [
        "# Example usage\n",
        "embedding_dict = create_embedding_dict(words_list, embeddings)\n",
        "word1_embedding = embedding_dict['Reward']\n",
        "word2_embedding = embedding_dict['Punishment']\n",
        "\n",
        "leaning_bias_w_m = compute_leaning(embedding_dict, word1_embedding, word2_embedding)\n",
        "print(leaning_bias_w_m)"
      ],
      "metadata": {
        "colab": {
          "base_uri": "https://localhost:8080/"
        },
        "id": "9Yu1EAGTQwd0",
        "outputId": "456bc56d-1147-4eda-f76c-ea8c829fc113"
      },
      "execution_count": null,
      "outputs": [
        {
          "output_type": "stream",
          "name": "stdout",
          "text": [
            "{'Religion': 0.11769042736693336, 'Islam': 0.16214074616315183, 'Woman': -0.027746081689249802, 'Men': 0.1275283092511308, 'Punishment': 0.5146083611317722, 'Reward': -0.514608361131772, 'Believers': 0.15989568552058797, 'God': 0.03221574359410462, 'Angry': 0.10967935169378007, 'Loving': 0.2836939563365317, 'Jihad': 0.3692341937348288, 'Merciful': 0.07833125859852708, 'Benevolent': 0.24867325135883306, 'Kafir': 0.3503949981992289, 'West': 0.09245925738126598, 'Salafist': 0.19987790090241175, 'Terrorism': 0.03736396292652355, 'Good': -0.03611911832328829, 'Bad': -0.013767004693591767, 'Violence': 0.15032614632679608, 'Kill': -0.032335549207532566, 'Martyr': 0.08936859751207177, 'Support': -0.14847548237863128, 'Muslim': 0.0029694898115028567, 'Caliphate': 0.1340987242899781, 'USA': 0.09688105939919911, 'EU': 0.0674152209176827, 'Empire': 0.32415661855497335, 'sharia': 0.21347430579550863, 'Politics': 0.008012236826469954, 'Law': 0.03009110723288988, 'Sin': 0.11156525073763085, 'Constitution': 0.08503778507952592, 'Authority': -0.06913304175597446, 'Capital punishment': 0.049940491227082495, 'Immoral': 0.12088521706384231, 'Holy war': 0.04467619076811935, 'Change': -0.1823291482618743, 'Christianity': 0.08279435248608885, 'Musyrik': 0.19750575528751657, 'Alcohol': 0.1601670468843538, 'Pleasure': 0.3555891831660278, 'Democracy': 0.1694941119324156, 'Blasphemy': 0.2376756078995368}\n"
          ]
        }
      ]
    }
  ]
}