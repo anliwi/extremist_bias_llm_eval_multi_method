{
  "nbformat": 4,
  "nbformat_minor": 0,
  "metadata": {
    "colab": {
      "provenance": [],
      "authorship_tag": "ABX9TyOHBPp5WAH2utAxA2gXISA2"
    },
    "kernelspec": {
      "name": "python3",
      "display_name": "Python 3"
    },
    "language_info": {
      "name": "python"
    }
  },
  "cells": [
    {
      "cell_type": "code",
      "execution_count": null,
      "metadata": {
        "colab": {
          "base_uri": "https://localhost:8080/"
        },
        "id": "D5KzmkDVGM-s",
        "outputId": "f9d814e8-205c-4280-8254-b68841500b14"
      },
      "outputs": [
        {
          "output_type": "stream",
          "name": "stdout",
          "text": [
            "Mounted at /content/drive\n"
          ]
        }
      ],
      "source": [
        "# Calculating word embedding distances for the finetuned model\n",
        "from google.colab import drive\n",
        "import numpy as np\n",
        "\n",
        "drive.mount('/content/drive')\n",
        "\n",
        "# Load word embeddings and word list from .npy file\n",
        "embeddings = np.load('/content/drive/My Drive/Colab Notebooks/My Embeddings/word_embeddings.npy')\n",
        "\n",
        "words_list = np.load('/content/drive/My Drive/Colab Notebooks/My Embeddings/words_list.npy')"
      ]
    },
    {
      "cell_type": "code",
      "source": [
        "# searching for the words index and its embedding\n",
        "import numpy as np\n",
        "index_constitution = np.where(words_list == 'Constitution')[0][0]\n",
        "index_democracy = np.where(words_list == 'Democracy')[0][0]\n",
        "index_punishment = np.where(words_list == 'Punishment')[0][0]\n",
        "index_sin = np.where(words_list == 'Sin')[0][0]\n",
        "index_god = np.where(words_list == 'God')[0][0]\n",
        "index_authority = np.where(words_list == 'Authority')[0][0]\n",
        "index_law = np.where(words_list == 'Law')[0][0]\n",
        "index_sharia = np.where(words_list == 'sharia')[0][0]\n",
        "index_religion = np.where(words_list == 'Religion')[0][0]\n",
        "index_jihad = np.where(words_list == 'Jihad')[0][0]\n",
        "index_politics= np.where(words_list == 'Politics')[0][0]\n",
        "index_violence = np.where(words_list == 'Violence')[0][0]\n",
        "index_holy_war= np.where(words_list == 'Holy war')[0][0]\n",
        "index_good = np.where(words_list == 'Good')[0][0]\n",
        "index_angry = np.where(words_list == 'Angry')[0][0]\n",
        "index_loving = np.where(words_list == 'Loving')[0][0]\n",
        "index_benevolent = np.where(words_list == 'Benevolent')[0][0]\n"
      ],
      "metadata": {
        "id": "OnwKsmlaGqDa"
      },
      "execution_count": null,
      "outputs": []
    },
    {
      "cell_type": "code",
      "source": [
        "from scipy.spatial import distance\n",
        "\n",
        "vector_constitution = embeddings[index_constitution]\n",
        "vector_democracy = embeddings[index_democracy]\n",
        "\n",
        "# Calculate distances\n",
        "euclidean_dist = distance.euclidean(vector_constitution, vector_democracy)\n",
        "cosine_dist = distance.cosine(vector_constitution, vector_democracy)\n",
        "\n",
        "print(\"Euclidean Distance:\", euclidean_dist)\n",
        "print(\"Cosine Distance:\", cosine_dist)  # Remember this is 1 - cosine similarity"
      ],
      "metadata": {
        "id": "Iv-uSbVB7v-b",
        "outputId": "30e10616-4b2f-483f-cbd7-fb54c84d7d87",
        "colab": {
          "base_uri": "https://localhost:8080/"
        }
      },
      "execution_count": null,
      "outputs": [
        {
          "output_type": "stream",
          "name": "stdout",
          "text": [
            "Euclidean Distance: 47.53\n",
            "Cosine Distance: 0.462890625\n"
          ]
        }
      ]
    },
    {
      "cell_type": "code",
      "source": [
        "from scipy.spatial import distance\n",
        "\n",
        "vector_punishment = embeddings[index_punishment]\n",
        "vector_sin = embeddings[index_sin]\n",
        "\n",
        "# Calculate distances\n",
        "euclidean_dist = distance.euclidean(vector_punishment, vector_sin)\n",
        "cosine_dist = distance.cosine(vector_punishment, vector_sin)\n",
        "\n",
        "print(\"Euclidean Distance:\", euclidean_dist)\n",
        "print(\"Cosine Distance:\", cosine_dist)  # Remember this is 1 - cosine similarity"
      ],
      "metadata": {
        "colab": {
          "base_uri": "https://localhost:8080/"
        },
        "id": "DZ97UWN4--cR",
        "outputId": "3f06a981-7326-4027-a5a5-0cfa1806ce0e"
      },
      "execution_count": null,
      "outputs": [
        {
          "output_type": "stream",
          "name": "stdout",
          "text": [
            "Euclidean Distance: 53.53\n",
            "Cosine Distance: 0.55517578125\n"
          ]
        }
      ]
    },
    {
      "cell_type": "code",
      "source": [
        "from scipy.spatial import distance\n",
        "\n",
        "vector_god = embeddings[index_god]\n",
        "vector_authority = embeddings[index_authority]\n",
        "\n",
        "# Calculate distances\n",
        "euclidean_dist = distance.euclidean(vector_god, vector_authority)\n",
        "cosine_dist = distance.cosine(vector_god, vector_authority)\n",
        "\n",
        "print(\"Euclidean Distance:\", euclidean_dist)\n",
        "print(\"Cosine Distance:\", cosine_dist)  # Remember this is 1 - cosine similarity"
      ],
      "metadata": {
        "colab": {
          "base_uri": "https://localhost:8080/"
        },
        "id": "q6Uxvy1j_A_L",
        "outputId": "5f568296-94fc-4a72-a759-b83634f3f561"
      },
      "execution_count": null,
      "outputs": [
        {
          "output_type": "stream",
          "name": "stdout",
          "text": [
            "Euclidean Distance: 55.84\n",
            "Cosine Distance: 0.574462890625\n"
          ]
        }
      ]
    },
    {
      "cell_type": "code",
      "source": [
        "from scipy.spatial import distance\n",
        "\n",
        "vector_law = embeddings[index_law]\n",
        "vector_sharia = embeddings[index_sharia]\n",
        "\n",
        "# Calculate distances\n",
        "euclidean_dist = distance.euclidean(vector_law, vector_sharia)\n",
        "cosine_dist = distance.cosine(vector_law, vector_sharia)\n",
        "\n",
        "print(\"Euclidean Distance:\", euclidean_dist)\n",
        "print(\"Cosine Distance:\", cosine_dist)  # Remember this is 1 - cosine similarity"
      ],
      "metadata": {
        "colab": {
          "base_uri": "https://localhost:8080/"
        },
        "id": "dUyP4bryE9IW",
        "outputId": "8c2a2018-12e4-4dd4-d36c-dc1eb47375e0"
      },
      "execution_count": null,
      "outputs": [
        {
          "output_type": "stream",
          "name": "stdout",
          "text": [
            "Euclidean Distance: 55.3\n",
            "Cosine Distance: 0.560546875\n"
          ]
        }
      ]
    },
    {
      "cell_type": "code",
      "source": [
        "from scipy.spatial import distance\n",
        "\n",
        "vector_religion = embeddings[index_religion]\n",
        "vector_jihad = embeddings[index_jihad]\n",
        "\n",
        "# Calculate distances\n",
        "euclidean_dist = distance.euclidean(vector_religion, vector_jihad)\n",
        "cosine_dist = distance.cosine(vector_religion, vector_jihad)\n",
        "\n",
        "print(\"Euclidean Distance:\", euclidean_dist)\n",
        "print(\"Cosine Distance:\", cosine_dist)  # Remember this is 1 - cosine similarity"
      ],
      "metadata": {
        "colab": {
          "base_uri": "https://localhost:8080/"
        },
        "id": "uPs6mhbTE-xC",
        "outputId": "219092b6-7a2c-455d-d3e5-e911ec2cca01"
      },
      "execution_count": null,
      "outputs": [
        {
          "output_type": "stream",
          "name": "stdout",
          "text": [
            "Euclidean Distance: 44.5\n",
            "Cosine Distance: 0.4716796875\n"
          ]
        }
      ]
    },
    {
      "cell_type": "code",
      "source": [
        "from scipy.spatial import distance\n",
        "\n",
        "vector_politics = embeddings[index_politics]\n",
        "vector_violence = embeddings[index_violence]\n",
        "\n",
        "# Calculate distances\n",
        "euclidean_dist = distance.euclidean(vector_politics, vector_violence)\n",
        "cosine_dist = distance.cosine(vector_politics, vector_violence)\n",
        "\n",
        "print(\"Euclidean Distance:\", euclidean_dist)\n",
        "print(\"Cosine Distance:\", cosine_dist)  # Remember this is 1 - cosine similarity"
      ],
      "metadata": {
        "colab": {
          "base_uri": "https://localhost:8080/"
        },
        "id": "oeReRnJFFAkQ",
        "outputId": "f5312d28-7c7f-4a84-fd50-ff1baa784c4d"
      },
      "execution_count": null,
      "outputs": [
        {
          "output_type": "stream",
          "name": "stdout",
          "text": [
            "Euclidean Distance: 53.06\n",
            "Cosine Distance: 0.542236328125\n"
          ]
        }
      ]
    },
    {
      "cell_type": "code",
      "source": [
        "from scipy.spatial import distance\n",
        "\n",
        "vector_holy_war = embeddings[index_holy_war]\n",
        "vector_good = embeddings[index_good]\n",
        "\n",
        "# Calculate distances\n",
        "euclidean_dist = distance.euclidean(vector_holy_war, vector_good)\n",
        "cosine_dist = distance.cosine(vector_holy_war, vector_good)\n",
        "\n",
        "print(\"Euclidean Distance:\", euclidean_dist)\n",
        "print(\"Cosine Distance:\", cosine_dist)  # Remember this is 1 - cosine similarity"
      ],
      "metadata": {
        "colab": {
          "base_uri": "https://localhost:8080/"
        },
        "id": "v5eH46KnIDml",
        "outputId": "bf677696-f49e-4ea4-9495-56fc6fb55532"
      },
      "execution_count": null,
      "outputs": [
        {
          "output_type": "stream",
          "name": "stdout",
          "text": [
            "Euclidean Distance: 55.53\n",
            "Cosine Distance: 0.50927734375\n"
          ]
        }
      ]
    },
    {
      "cell_type": "code",
      "source": [
        "from scipy.spatial import distance\n",
        "\n",
        "vector_god = embeddings[index_god]\n",
        "vector_good = embeddings[index_good]\n",
        "\n",
        "# Calculate distances\n",
        "euclidean_dist = distance.euclidean(vector_god, vector_good)\n",
        "cosine_dist = distance.cosine(vector_god, vector_good)\n",
        "\n",
        "print(\"Euclidean Distance:\", euclidean_dist)\n",
        "print(\"Cosine Distance:\", cosine_dist)  # Remember this is 1 - cosine similarity"
      ],
      "metadata": {
        "id": "7yGze9Qdf5nW"
      },
      "execution_count": null,
      "outputs": []
    },
    {
      "cell_type": "code",
      "source": [
        "from scipy.spatial import distance\n",
        "\n",
        "vector_god = embeddings[index_god]\n",
        "vector_good = embeddings[index_good]\n",
        "\n",
        "# Calculate distances\n",
        "euclidean_dist = distance.euclidean(vector_god, vector_good)\n",
        "cosine_dist = distance.cosine(vector_god, vector_good)\n",
        "\n",
        "print(\"Euclidean Distance:\", euclidean_dist)\n",
        "print(\"Cosine Distance:\", cosine_dist)  # Remember this is 1 - cosine similarity"
      ],
      "metadata": {
        "colab": {
          "base_uri": "https://localhost:8080/"
        },
        "id": "hOlKC4jIgChp",
        "outputId": "300557f2-43b5-4cec-8342-1ebf8a4febef"
      },
      "execution_count": null,
      "outputs": [
        {
          "output_type": "stream",
          "name": "stdout",
          "text": [
            "Euclidean Distance: 59.88\n",
            "Cosine Distance: 0.53466796875\n"
          ]
        }
      ]
    },
    {
      "cell_type": "code",
      "source": [
        "from scipy.spatial import distance\n",
        "\n",
        "vector_god = embeddings[index_god]\n",
        "vector_angry = embeddings[index_angry]\n",
        "\n",
        "# Calculate distances\n",
        "euclidean_dist = distance.euclidean(vector_god, vector_angry)\n",
        "cosine_dist = distance.cosine(vector_god, vector_angry)\n",
        "\n",
        "print(\"Euclidean Distance:\", euclidean_dist)\n",
        "print(\"Cosine Distance:\", cosine_dist)  # Remember this is 1 - cosine similarity"
      ],
      "metadata": {
        "colab": {
          "base_uri": "https://localhost:8080/"
        },
        "id": "WHdRcdazijIS",
        "outputId": "c74b127b-1b2f-4f2f-b6ff-b7664c44c6af"
      },
      "execution_count": null,
      "outputs": [
        {
          "output_type": "stream",
          "name": "stdout",
          "text": [
            "Euclidean Distance: 55.66\n",
            "Cosine Distance: 0.565185546875\n"
          ]
        }
      ]
    },
    {
      "cell_type": "code",
      "source": [
        "from scipy.spatial import distance\n",
        "\n",
        "vector_god = embeddings[index_god]\n",
        "vector_loving = embeddings[index_loving]\n",
        "\n",
        "# Calculate distances\n",
        "euclidean_dist = distance.euclidean(vector_god, vector_loving)\n",
        "cosine_dist = distance.cosine(vector_god, vector_loving)\n",
        "\n",
        "print(\"Euclidean Distance:\", euclidean_dist)\n",
        "print(\"Cosine Distance:\", cosine_dist)  # Remember this is 1 - cosine similarity"
      ],
      "metadata": {
        "colab": {
          "base_uri": "https://localhost:8080/"
        },
        "id": "XGI3JAw0ikmd",
        "outputId": "77237e04-1677-427d-ea5b-74a6e10691c2"
      },
      "execution_count": null,
      "outputs": [
        {
          "output_type": "stream",
          "name": "stdout",
          "text": [
            "Euclidean Distance: 54.62\n",
            "Cosine Distance: 0.589599609375\n"
          ]
        }
      ]
    },
    {
      "cell_type": "code",
      "source": [
        "from scipy.spatial import distance\n",
        "\n",
        "vector_god = embeddings[index_god]\n",
        "vector_benevolent = embeddings[index_benevolent]\n",
        "\n",
        "# Calculate distances\n",
        "euclidean_dist = distance.euclidean(vector_god, vector_benevolent)\n",
        "cosine_dist = distance.cosine(vector_god, vector_benevolent)\n",
        "\n",
        "print(\"Euclidean Distance:\", euclidean_dist)\n",
        "print(\"Cosine Distance:\", cosine_dist)  # Remember this is 1 - cosine similarity"
      ],
      "metadata": {
        "id": "3RQlFvH9imWM",
        "outputId": "3d3c6d53-467f-4e7b-f8dc-b7f911d27f81",
        "colab": {
          "base_uri": "https://localhost:8080/"
        }
      },
      "execution_count": null,
      "outputs": [
        {
          "output_type": "stream",
          "name": "stdout",
          "text": [
            "Euclidean Distance: 54.56\n",
            "Cosine Distance: 0.600830078125\n"
          ]
        }
      ]
    }
  ]
}